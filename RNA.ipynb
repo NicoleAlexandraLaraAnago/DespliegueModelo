{
 "cells": [
  {
   "cell_type": "code",
   "execution_count": 2,
   "id": "4120aad8-5ce9-44b1-96ee-717861e894e2",
   "metadata": {},
   "outputs": [],
   "source": [
    "import pandas as pd\n",
    "import numpy as np\n",
    "from sklearn.preprocessing import StandardScaler, LabelEncoder\n",
    "from sklearn.model_selection import train_test_split\n",
    "from sklearn.metrics import classification_report, accuracy_score, confusion_matrix, ConfusionMatrixDisplay\n",
    "from sklearn.cluster import KMeans\n",
    "import matplotlib.pyplot as plt\n",
    "from keras.models import Sequential\n",
    "from keras.layers import Dense\n",
    "from keras.utils import to_categorical\n"
   ]
  },
  {
   "cell_type": "code",
   "execution_count": 2,
   "id": "f913faef",
   "metadata": {},
   "outputs": [],
   "source": [
    "# 1. Cargar y Preparar los Datos\n",
    "def leer_datos(ruta):\n",
    "    df = pd.read_csv(ruta, sep=',')\n",
    "    return df"
   ]
  },
  {
   "cell_type": "code",
   "execution_count": 3,
   "id": "3e1fd3a6",
   "metadata": {},
   "outputs": [],
   "source": [
    "# Cargar los datos\n",
    "data = leer_datos(\"data_evaluacion.csv\")\n"
   ]
  },
  {
   "cell_type": "code",
   "execution_count": 4,
   "id": "2778b05a",
   "metadata": {},
   "outputs": [],
   "source": [
    "# Verificar si hay valores nulos en las columnas numéricas\n",
    "numeric_columns = data.select_dtypes(include=[np.number]).columns\n",
    "categorical_columns = data.select_dtypes(exclude=[np.number]).columns\n"
   ]
  },
  {
   "cell_type": "code",
   "execution_count": 5,
   "id": "077df23e",
   "metadata": {},
   "outputs": [
    {
     "name": "stdout",
     "output_type": "stream",
     "text": [
      "Valores nulos en las columnas numéricas:\n",
      "39       0\n",
      "77516    0\n",
      "13       0\n",
      "2174     0\n",
      "0        0\n",
      "40       0\n",
      "dtype: int64\n",
      "Valores nulos en las columnas categóricas:\n",
      "State-gov        0\n",
      "Bachelors        0\n",
      "Never-married    0\n",
      "Adm-clerical     0\n",
      "Not-in-family    0\n",
      "White            0\n",
      "Male             0\n",
      "United-States    0\n",
      "<=50K            0\n",
      "dtype: int64\n"
     ]
    }
   ],
   "source": [
    "print(\"Valores nulos en las columnas numéricas:\")\n",
    "print(data[numeric_columns].isnull().sum())\n",
    "\n",
    "print(\"Valores nulos en las columnas categóricas:\")\n",
    "print(data[categorical_columns].isnull().sum())\n"
   ]
  },
  {
   "cell_type": "code",
   "execution_count": 6,
   "id": "f4586cf8",
   "metadata": {},
   "outputs": [],
   "source": [
    "# Renombrar las columnas del DataFrame\n",
    "data.rename(columns={\n",
    "    '39': 'Age',\n",
    "    '77516': 'HoursPerWeek',\n",
    "    '13': 'EducationLevel',\n",
    "    '2174': 'PostalCode',\n",
    "    '0': 'Indicator',\n",
    "    '40': 'MaxHours',\n",
    "    '<=50K': 'salary'\n",
    "}, inplace=True)\n"
   ]
  },
  {
   "cell_type": "code",
   "execution_count": 7,
   "id": "018e492a",
   "metadata": {},
   "outputs": [
    {
     "name": "stdout",
     "output_type": "stream",
     "text": [
      "Columnas renombradas:\n",
      "   Age         State-gov  HoursPerWeek     Bachelors  EducationLevel  \\\n",
      "0   50  Self-emp-not-inc         83311     Bachelors              13   \n",
      "1   38           Private        215646       HS-grad               9   \n",
      "2   53           Private        234721          11th               7   \n",
      "3   28           Private        338409     Bachelors              13   \n",
      "4   37           Private        284582       Masters              14   \n",
      "5   49           Private        160187           9th               5   \n",
      "6   52  Self-emp-not-inc        209642       HS-grad               9   \n",
      "7   31           Private         45781       Masters              14   \n",
      "8   42           Private        159449     Bachelors              13   \n",
      "9   37           Private        280464  Some-college              10   \n",
      "\n",
      "           Never-married       Adm-clerical  Not-in-family  White    Male  \\\n",
      "0     Married-civ-spouse    Exec-managerial        Husband  White    Male   \n",
      "1               Divorced  Handlers-cleaners  Not-in-family  White    Male   \n",
      "2     Married-civ-spouse  Handlers-cleaners        Husband  Black    Male   \n",
      "3     Married-civ-spouse     Prof-specialty           Wife  Black  Female   \n",
      "4     Married-civ-spouse    Exec-managerial           Wife  White  Female   \n",
      "5  Married-spouse-absent      Other-service  Not-in-family  Black  Female   \n",
      "6     Married-civ-spouse    Exec-managerial        Husband  White    Male   \n",
      "7          Never-married     Prof-specialty  Not-in-family  White  Female   \n",
      "8     Married-civ-spouse    Exec-managerial        Husband  White    Male   \n",
      "9     Married-civ-spouse    Exec-managerial        Husband  Black    Male   \n",
      "\n",
      "   PostalCode  Indicator  MaxHours  United-States salary  \n",
      "0           0          0        13  United-States  <=50K  \n",
      "1           0          0        40  United-States  <=50K  \n",
      "2           0          0        40  United-States  <=50K  \n",
      "3           0          0        40           Cuba  <=50K  \n",
      "4           0          0        40  United-States  <=50K  \n",
      "5           0          0        16        Jamaica  <=50K  \n",
      "6           0          0        45  United-States   >50K  \n",
      "7       14084          0        50  United-States   >50K  \n",
      "8        5178          0        40  United-States   >50K  \n",
      "9           0          0        80  United-States   >50K  \n"
     ]
    }
   ],
   "source": [
    "# Verificar el renombramiento de las columnas\n",
    "print(\"Columnas renombradas:\")\n",
    "print(data.head(10))"
   ]
  },
  {
   "cell_type": "code",
   "execution_count": 8,
   "id": "5c053c47",
   "metadata": {},
   "outputs": [
    {
     "name": "stdout",
     "output_type": "stream",
     "text": [
      "   Age         State-gov  HoursPerWeek  Bachelors  EducationLevel  \\\n",
      "0   50  Self-emp-not-inc         83311  Bachelors              13   \n",
      "1   38           Private        215646    HS-grad               9   \n",
      "2   53           Private        234721       11th               7   \n",
      "3   28           Private        338409  Bachelors              13   \n",
      "4   37           Private        284582    Masters              14   \n",
      "\n",
      "        Never-married       Adm-clerical  Not-in-family  White    Male  \\\n",
      "0  Married-civ-spouse    Exec-managerial        Husband  White    Male   \n",
      "1            Divorced  Handlers-cleaners  Not-in-family  White    Male   \n",
      "2  Married-civ-spouse  Handlers-cleaners        Husband  Black    Male   \n",
      "3  Married-civ-spouse     Prof-specialty           Wife  Black  Female   \n",
      "4  Married-civ-spouse    Exec-managerial           Wife  White  Female   \n",
      "\n",
      "   PostalCode  Indicator  MaxHours  United-States salary  \n",
      "0           0          0        13  United-States  <=50K  \n",
      "1           0          0        40  United-States  <=50K  \n",
      "2           0          0        40  United-States  <=50K  \n",
      "3           0          0        40           Cuba  <=50K  \n",
      "4           0          0        40  United-States  <=50K  \n"
     ]
    }
   ],
   "source": [
    "# Cambiar el nombre de la columna\n",
    "data.rename(columns={'<=50K': 'salary'}, inplace=True)\n",
    "\n",
    "# Mostrar las primeras filas del DataFrame para verificar el cambio\n",
    "print(data.head())"
   ]
  },
  {
   "cell_type": "code",
   "execution_count": 9,
   "id": "dfbfa1e7",
   "metadata": {},
   "outputs": [],
   "source": [
    "# Actualizar las columnas categóricas después de renombrar\n",
    "categorical_columns = data.select_dtypes(exclude=[np.number]).columns"
   ]
  },
  {
   "cell_type": "code",
   "execution_count": 10,
   "id": "be217aa5",
   "metadata": {},
   "outputs": [],
   "source": [
    "# 2. Codificar Columnas Categóricas\n",
    "categorical_columns = data.select_dtypes(exclude=[np.number]).columns"
   ]
  },
  {
   "cell_type": "code",
   "execution_count": 11,
   "id": "b809a55e",
   "metadata": {},
   "outputs": [],
   "source": [
    "# Codificar columnas categóricas\n",
    "le = LabelEncoder()\n",
    "for col in categorical_columns:\n",
    "    data[col] = le.fit_transform(data[col])"
   ]
  },
  {
   "cell_type": "code",
   "execution_count": 12,
   "id": "c18c0c7f",
   "metadata": {},
   "outputs": [
    {
     "name": "stdout",
     "output_type": "stream",
     "text": [
      "   Age  State-gov  HoursPerWeek  Bachelors  EducationLevel  Never-married  \\\n",
      "0   50          6         83311          9              13              2   \n",
      "1   38          4        215646         11               9              0   \n",
      "2   53          4        234721          1               7              2   \n",
      "3   28          4        338409          9              13              2   \n",
      "4   37          4        284582         12              14              2   \n",
      "\n",
      "   Adm-clerical  Not-in-family  White  Male  PostalCode  Indicator  MaxHours  \\\n",
      "0             4              0      4     1           0          0        13   \n",
      "1             6              1      4     1           0          0        40   \n",
      "2             6              0      2     1           0          0        40   \n",
      "3            10              5      2     0           0          0        40   \n",
      "4             4              5      4     0           0          0        40   \n",
      "\n",
      "   United-States  salary  \n",
      "0             39       0  \n",
      "1             39       0  \n",
      "2             39       0  \n",
      "3              5       0  \n",
      "4             39       0  \n"
     ]
    }
   ],
   "source": [
    "# Verificar las primeras filas después de la codificación\n",
    "print(data.head())"
   ]
  },
  {
   "cell_type": "code",
   "execution_count": 13,
   "id": "a68813e7",
   "metadata": {},
   "outputs": [],
   "source": [
    "# 3. Normalización de Datos\n",
    "# Normalización de los datos\n",
    "scaler = StandardScaler()\n",
    "numeric_columns = ['Age', 'HoursPerWeek', 'EducationLevel', 'PostalCode', 'Indicator', 'MaxHours']\n",
    "data[numeric_columns] = scaler.fit_transform(data[numeric_columns])\n"
   ]
  },
  {
   "cell_type": "code",
   "execution_count": 14,
   "id": "e152e4c0",
   "metadata": {},
   "outputs": [
    {
     "name": "stdout",
     "output_type": "stream",
     "text": [
      "        Age  State-gov  HoursPerWeek  Bachelors  EducationLevel  \\\n",
      "0  0.828300          6     -1.007127          9        1.136539   \n",
      "1 -0.046940          4      0.246012         11       -0.419313   \n",
      "2  1.047111          4      0.426642          1       -1.197239   \n",
      "3 -0.776308          4      1.408510          9        1.136539   \n",
      "4 -0.119877          4      0.898798         12        1.525502   \n",
      "\n",
      "   Never-married  Adm-clerical  Not-in-family  White  Male  PostalCode  \\\n",
      "0              2             4              0      4     1   -0.144799   \n",
      "1              0             6              1      4     1   -0.144799   \n",
      "2              2             6              0      2     1   -0.144799   \n",
      "3              2            10              5      2     0   -0.144799   \n",
      "4              2             4              5      4     0   -0.144799   \n",
      "\n",
      "   Indicator  MaxHours  United-States  salary  \n",
      "0  -0.217129 -2.213010             39       0  \n",
      "1  -0.217129 -0.034087             39       0  \n",
      "2  -0.217129 -0.034087             39       0  \n",
      "3  -0.217129 -0.034087              5       0  \n",
      "4  -0.217129 -0.034087             39       0  \n"
     ]
    }
   ],
   "source": [
    "# Mostrar las primeras 5 filas después de la normalización\n",
    "print(data.head())\n"
   ]
  },
  {
   "cell_type": "code",
   "execution_count": 15,
   "id": "2a7a3cbd",
   "metadata": {},
   "outputs": [
    {
     "name": "stderr",
     "output_type": "stream",
     "text": [
      "c:\\Users\\Adali\\anaconda3\\Lib\\site-packages\\sklearn\\cluster\\_kmeans.py:870: FutureWarning: The default value of `n_init` will change from 10 to 'auto' in 1.4. Set the value of `n_init` explicitly to suppress the warning\n",
      "  warnings.warn(\n"
     ]
    }
   ],
   "source": [
    "# 4. Clustering con KMeans\n",
    "# Aplicar KMeans\n",
    "kmeans = KMeans(n_clusters=3, random_state=0)\n",
    "kmeans.fit(data[numeric_columns])\n",
    "labels = kmeans.labels_"
   ]
  },
  {
   "cell_type": "code",
   "execution_count": 16,
   "id": "69d1843a",
   "metadata": {},
   "outputs": [],
   "source": [
    "# Añadir etiquetas de clúster a los datos originales\n",
    "data['Cluster'] = labels\n"
   ]
  },
  {
   "cell_type": "code",
   "execution_count": 17,
   "id": "24e35306",
   "metadata": {},
   "outputs": [
    {
     "name": "stdout",
     "output_type": "stream",
     "text": [
      "        Age  State-gov  HoursPerWeek  Bachelors  EducationLevel  \\\n",
      "0  0.828300          6     -1.007127          9        1.136539   \n",
      "1 -0.046940          4      0.246012         11       -0.419313   \n",
      "2  1.047111          4      0.426642          1       -1.197239   \n",
      "3 -0.776308          4      1.408510          9        1.136539   \n",
      "4 -0.119877          4      0.898798         12        1.525502   \n",
      "\n",
      "   Never-married  Adm-clerical  Not-in-family  White  Male  PostalCode  \\\n",
      "0              2             4              0      4     1   -0.144799   \n",
      "1              0             6              1      4     1   -0.144799   \n",
      "2              2             6              0      2     1   -0.144799   \n",
      "3              2            10              5      2     0   -0.144799   \n",
      "4              2             4              5      4     0   -0.144799   \n",
      "\n",
      "   Indicator  MaxHours  United-States  salary  Cluster  \n",
      "0  -0.217129 -2.213010             39       0        1  \n",
      "1  -0.217129 -0.034087             39       0        0  \n",
      "2  -0.217129 -0.034087             39       0        1  \n",
      "3  -0.217129 -0.034087              5       0        0  \n",
      "4  -0.217129 -0.034087             39       0        1  \n"
     ]
    }
   ],
   "source": [
    "\n",
    "# Mostrar las primeras 5 filas después de agregar los clusters\n",
    "print(data.head())"
   ]
  },
  {
   "cell_type": "code",
   "execution_count": 18,
   "id": "0dd7820c",
   "metadata": {},
   "outputs": [],
   "source": [
    "# 5. Preparar Datos para la Red Neuronal Artificial\n",
    "# Separar características y variable objetivo\n",
    "X = data.drop(columns=['salary', 'Cluster'])\n",
    "y = data['salary']"
   ]
  },
  {
   "cell_type": "code",
   "execution_count": 19,
   "id": "6e4ae859",
   "metadata": {},
   "outputs": [],
   "source": [
    "\n",
    "# Dividir los datos en conjuntos de entrenamiento y prueba\n",
    "X_train, X_test, y_train, y_test = train_test_split(X, y, test_size=0.3, random_state=42)\n"
   ]
  },
  {
   "cell_type": "code",
   "execution_count": 20,
   "id": "20dad6c0",
   "metadata": {},
   "outputs": [],
   "source": [
    "# Normalización de los datos\n",
    "scaler = StandardScaler()\n",
    "X_train = scaler.fit_transform(X_train)\n",
    "X_test = scaler.transform(X_test)\n"
   ]
  },
  {
   "cell_type": "code",
   "execution_count": 21,
   "id": "8857c130",
   "metadata": {},
   "outputs": [],
   "source": [
    "# Convertir las etiquetas a una codificación one-hot\n",
    "y_train = to_categorical(y_train)\n",
    "y_test = to_categorical(y_test)"
   ]
  },
  {
   "cell_type": "code",
   "execution_count": 22,
   "id": "4aa92cd6",
   "metadata": {},
   "outputs": [
    {
     "name": "stderr",
     "output_type": "stream",
     "text": [
      "c:\\Users\\Adali\\anaconda3\\Lib\\site-packages\\keras\\src\\layers\\core\\dense.py:87: UserWarning: Do not pass an `input_shape`/`input_dim` argument to a layer. When using Sequential models, prefer using an `Input(shape)` object as the first layer in the model instead.\n",
      "  super().__init__(activity_regularizer=activity_regularizer, **kwargs)\n"
     ]
    }
   ],
   "source": [
    "# 6. Crear y Entrenar el Modelo de Red Neuronal Artificial\n",
    "modelo = Sequential()\n",
    "\n",
    "# Primera capa oculta\n",
    "modelo.add(Dense(32, activation='relu', input_shape=[X_train.shape[1]]))\n",
    "\n",
    "# Segunda capa oculta\n",
    "modelo.add(Dense(16, activation='relu'))\n",
    "\n",
    "# Capa de salida\n",
    "modelo.add(Dense(2, activation='softmax'))  # Cambiar a 2 para clasificación binaria\n",
    "\n",
    "# Configuración del modelo\n",
    "modelo.compile(\n",
    "    loss='categorical_crossentropy',  # Para problemas multiclase\n",
    "    optimizer='adam',\n",
    "    metrics=['accuracy']\n",
    ")"
   ]
  },
  {
   "cell_type": "code",
   "execution_count": 23,
   "id": "ec8fbc54",
   "metadata": {},
   "outputs": [
    {
     "name": "stdout",
     "output_type": "stream",
     "text": [
      "Epoch 1/50\n",
      "\u001b[1m3419/3419\u001b[0m \u001b[32m━━━━━━━━━━━━━━━━━━━━\u001b[0m\u001b[37m\u001b[0m \u001b[1m16s\u001b[0m 3ms/step - accuracy: 0.8029 - loss: 0.3966\n",
      "Epoch 2/50\n",
      "\u001b[1m3419/3419\u001b[0m \u001b[32m━━━━━━━━━━━━━━━━━━━━\u001b[0m\u001b[37m\u001b[0m \u001b[1m12s\u001b[0m 3ms/step - accuracy: 0.8429 - loss: 0.3312\n",
      "Epoch 3/50\n",
      "\u001b[1m3419/3419\u001b[0m \u001b[32m━━━━━━━━━━━━━━━━━━━━\u001b[0m\u001b[37m\u001b[0m \u001b[1m21s\u001b[0m 4ms/step - accuracy: 0.8505 - loss: 0.3223\n",
      "Epoch 4/50\n",
      "\u001b[1m3419/3419\u001b[0m \u001b[32m━━━━━━━━━━━━━━━━━━━━\u001b[0m\u001b[37m\u001b[0m \u001b[1m12s\u001b[0m 3ms/step - accuracy: 0.8474 - loss: 0.3195\n",
      "Epoch 5/50\n",
      "\u001b[1m3419/3419\u001b[0m \u001b[32m━━━━━━━━━━━━━━━━━━━━\u001b[0m\u001b[37m\u001b[0m \u001b[1m12s\u001b[0m 3ms/step - accuracy: 0.8489 - loss: 0.3193\n",
      "Epoch 6/50\n",
      "\u001b[1m3419/3419\u001b[0m \u001b[32m━━━━━━━━━━━━━━━━━━━━\u001b[0m\u001b[37m\u001b[0m \u001b[1m21s\u001b[0m 3ms/step - accuracy: 0.8518 - loss: 0.3184\n",
      "Epoch 7/50\n",
      "\u001b[1m3419/3419\u001b[0m \u001b[32m━━━━━━━━━━━━━━━━━━━━\u001b[0m\u001b[37m\u001b[0m \u001b[1m13s\u001b[0m 4ms/step - accuracy: 0.8534 - loss: 0.3119\n",
      "Epoch 8/50\n",
      "\u001b[1m3419/3419\u001b[0m \u001b[32m━━━━━━━━━━━━━━━━━━━━\u001b[0m\u001b[37m\u001b[0m \u001b[1m20s\u001b[0m 4ms/step - accuracy: 0.8532 - loss: 0.3117\n",
      "Epoch 9/50\n",
      "\u001b[1m3419/3419\u001b[0m \u001b[32m━━━━━━━━━━━━━━━━━━━━\u001b[0m\u001b[37m\u001b[0m \u001b[1m12s\u001b[0m 3ms/step - accuracy: 0.8501 - loss: 0.3166\n",
      "Epoch 10/50\n",
      "\u001b[1m3419/3419\u001b[0m \u001b[32m━━━━━━━━━━━━━━━━━━━━\u001b[0m\u001b[37m\u001b[0m \u001b[1m12s\u001b[0m 3ms/step - accuracy: 0.8549 - loss: 0.3106\n",
      "Epoch 11/50\n",
      "\u001b[1m3419/3419\u001b[0m \u001b[32m━━━━━━━━━━━━━━━━━━━━\u001b[0m\u001b[37m\u001b[0m \u001b[1m12s\u001b[0m 3ms/step - accuracy: 0.8541 - loss: 0.3098\n",
      "Epoch 12/50\n",
      "\u001b[1m3419/3419\u001b[0m \u001b[32m━━━━━━━━━━━━━━━━━━━━\u001b[0m\u001b[37m\u001b[0m \u001b[1m13s\u001b[0m 4ms/step - accuracy: 0.8573 - loss: 0.3034\n",
      "Epoch 13/50\n",
      "\u001b[1m3419/3419\u001b[0m \u001b[32m━━━━━━━━━━━━━━━━━━━━\u001b[0m\u001b[37m\u001b[0m \u001b[1m14s\u001b[0m 4ms/step - accuracy: 0.8536 - loss: 0.3106\n",
      "Epoch 14/50\n",
      "\u001b[1m3419/3419\u001b[0m \u001b[32m━━━━━━━━━━━━━━━━━━━━\u001b[0m\u001b[37m\u001b[0m \u001b[1m13s\u001b[0m 4ms/step - accuracy: 0.8507 - loss: 0.3104\n",
      "Epoch 15/50\n",
      "\u001b[1m3419/3419\u001b[0m \u001b[32m━━━━━━━━━━━━━━━━━━━━\u001b[0m\u001b[37m\u001b[0m \u001b[1m14s\u001b[0m 4ms/step - accuracy: 0.8512 - loss: 0.3132\n",
      "Epoch 16/50\n",
      "\u001b[1m3419/3419\u001b[0m \u001b[32m━━━━━━━━━━━━━━━━━━━━\u001b[0m\u001b[37m\u001b[0m \u001b[1m13s\u001b[0m 4ms/step - accuracy: 0.8553 - loss: 0.3085\n",
      "Epoch 17/50\n",
      "\u001b[1m3419/3419\u001b[0m \u001b[32m━━━━━━━━━━━━━━━━━━━━\u001b[0m\u001b[37m\u001b[0m \u001b[1m18s\u001b[0m 5ms/step - accuracy: 0.8556 - loss: 0.3110\n",
      "Epoch 18/50\n",
      "\u001b[1m3419/3419\u001b[0m \u001b[32m━━━━━━━━━━━━━━━━━━━━\u001b[0m\u001b[37m\u001b[0m \u001b[1m16s\u001b[0m 5ms/step - accuracy: 0.8530 - loss: 0.3059\n",
      "Epoch 19/50\n",
      "\u001b[1m3419/3419\u001b[0m \u001b[32m━━━━━━━━━━━━━━━━━━━━\u001b[0m\u001b[37m\u001b[0m \u001b[1m13s\u001b[0m 4ms/step - accuracy: 0.8572 - loss: 0.3037\n",
      "Epoch 20/50\n",
      "\u001b[1m3419/3419\u001b[0m \u001b[32m━━━━━━━━━━━━━━━━━━━━\u001b[0m\u001b[37m\u001b[0m \u001b[1m13s\u001b[0m 4ms/step - accuracy: 0.8594 - loss: 0.3000\n",
      "Epoch 21/50\n",
      "\u001b[1m3419/3419\u001b[0m \u001b[32m━━━━━━━━━━━━━━━━━━━━\u001b[0m\u001b[37m\u001b[0m \u001b[1m14s\u001b[0m 4ms/step - accuracy: 0.8546 - loss: 0.3084\n",
      "Epoch 22/50\n",
      "\u001b[1m3419/3419\u001b[0m \u001b[32m━━━━━━━━━━━━━━━━━━━━\u001b[0m\u001b[37m\u001b[0m \u001b[1m13s\u001b[0m 4ms/step - accuracy: 0.8595 - loss: 0.3034\n",
      "Epoch 23/50\n",
      "\u001b[1m3419/3419\u001b[0m \u001b[32m━━━━━━━━━━━━━━━━━━━━\u001b[0m\u001b[37m\u001b[0m \u001b[1m14s\u001b[0m 4ms/step - accuracy: 0.8577 - loss: 0.3017\n",
      "Epoch 24/50\n",
      "\u001b[1m3419/3419\u001b[0m \u001b[32m━━━━━━━━━━━━━━━━━━━━\u001b[0m\u001b[37m\u001b[0m \u001b[1m15s\u001b[0m 4ms/step - accuracy: 0.8570 - loss: 0.3053\n",
      "Epoch 25/50\n",
      "\u001b[1m3419/3419\u001b[0m \u001b[32m━━━━━━━━━━━━━━━━━━━━\u001b[0m\u001b[37m\u001b[0m \u001b[1m14s\u001b[0m 4ms/step - accuracy: 0.8571 - loss: 0.3039\n",
      "Epoch 26/50\n",
      "\u001b[1m3419/3419\u001b[0m \u001b[32m━━━━━━━━━━━━━━━━━━━━\u001b[0m\u001b[37m\u001b[0m \u001b[1m14s\u001b[0m 4ms/step - accuracy: 0.8544 - loss: 0.3053\n",
      "Epoch 27/50\n",
      "\u001b[1m3419/3419\u001b[0m \u001b[32m━━━━━━━━━━━━━━━━━━━━\u001b[0m\u001b[37m\u001b[0m \u001b[1m13s\u001b[0m 4ms/step - accuracy: 0.8575 - loss: 0.3042\n",
      "Epoch 28/50\n",
      "\u001b[1m3419/3419\u001b[0m \u001b[32m━━━━━━━━━━━━━━━━━━━━\u001b[0m\u001b[37m\u001b[0m \u001b[1m11s\u001b[0m 3ms/step - accuracy: 0.8609 - loss: 0.2982\n",
      "Epoch 29/50\n",
      "\u001b[1m3419/3419\u001b[0m \u001b[32m━━━━━━━━━━━━━━━━━━━━\u001b[0m\u001b[37m\u001b[0m \u001b[1m9s\u001b[0m 3ms/step - accuracy: 0.8595 - loss: 0.3000\n",
      "Epoch 30/50\n",
      "\u001b[1m3419/3419\u001b[0m \u001b[32m━━━━━━━━━━━━━━━━━━━━\u001b[0m\u001b[37m\u001b[0m \u001b[1m10s\u001b[0m 3ms/step - accuracy: 0.8568 - loss: 0.3036\n",
      "Epoch 31/50\n",
      "\u001b[1m3419/3419\u001b[0m \u001b[32m━━━━━━━━━━━━━━━━━━━━\u001b[0m\u001b[37m\u001b[0m \u001b[1m17s\u001b[0m 5ms/step - accuracy: 0.8628 - loss: 0.2973\n",
      "Epoch 32/50\n",
      "\u001b[1m3419/3419\u001b[0m \u001b[32m━━━━━━━━━━━━━━━━━━━━\u001b[0m\u001b[37m\u001b[0m \u001b[1m15s\u001b[0m 4ms/step - accuracy: 0.8591 - loss: 0.3018\n",
      "Epoch 33/50\n",
      "\u001b[1m3419/3419\u001b[0m \u001b[32m━━━━━━━━━━━━━━━━━━━━\u001b[0m\u001b[37m\u001b[0m \u001b[1m13s\u001b[0m 4ms/step - accuracy: 0.8572 - loss: 0.3023\n",
      "Epoch 34/50\n",
      "\u001b[1m3419/3419\u001b[0m \u001b[32m━━━━━━━━━━━━━━━━━━━━\u001b[0m\u001b[37m\u001b[0m \u001b[1m13s\u001b[0m 4ms/step - accuracy: 0.8610 - loss: 0.2982\n",
      "Epoch 35/50\n",
      "\u001b[1m3419/3419\u001b[0m \u001b[32m━━━━━━━━━━━━━━━━━━━━\u001b[0m\u001b[37m\u001b[0m \u001b[1m13s\u001b[0m 4ms/step - accuracy: 0.8607 - loss: 0.2957\n",
      "Epoch 36/50\n",
      "\u001b[1m3419/3419\u001b[0m \u001b[32m━━━━━━━━━━━━━━━━━━━━\u001b[0m\u001b[37m\u001b[0m \u001b[1m12s\u001b[0m 4ms/step - accuracy: 0.8638 - loss: 0.2900\n",
      "Epoch 37/50\n",
      "\u001b[1m3419/3419\u001b[0m \u001b[32m━━━━━━━━━━━━━━━━━━━━\u001b[0m\u001b[37m\u001b[0m \u001b[1m13s\u001b[0m 4ms/step - accuracy: 0.8602 - loss: 0.2979\n",
      "Epoch 38/50\n",
      "\u001b[1m3419/3419\u001b[0m \u001b[32m━━━━━━━━━━━━━━━━━━━━\u001b[0m\u001b[37m\u001b[0m \u001b[1m12s\u001b[0m 4ms/step - accuracy: 0.8616 - loss: 0.2974\n",
      "Epoch 39/50\n",
      "\u001b[1m3419/3419\u001b[0m \u001b[32m━━━━━━━━━━━━━━━━━━━━\u001b[0m\u001b[37m\u001b[0m \u001b[1m13s\u001b[0m 4ms/step - accuracy: 0.8604 - loss: 0.2966\n",
      "Epoch 40/50\n",
      "\u001b[1m3419/3419\u001b[0m \u001b[32m━━━━━━━━━━━━━━━━━━━━\u001b[0m\u001b[37m\u001b[0m \u001b[1m13s\u001b[0m 4ms/step - accuracy: 0.8583 - loss: 0.2981\n",
      "Epoch 41/50\n",
      "\u001b[1m3419/3419\u001b[0m \u001b[32m━━━━━━━━━━━━━━━━━━━━\u001b[0m\u001b[37m\u001b[0m \u001b[1m13s\u001b[0m 4ms/step - accuracy: 0.8622 - loss: 0.2956\n",
      "Epoch 42/50\n",
      "\u001b[1m3419/3419\u001b[0m \u001b[32m━━━━━━━━━━━━━━━━━━━━\u001b[0m\u001b[37m\u001b[0m \u001b[1m13s\u001b[0m 4ms/step - accuracy: 0.8606 - loss: 0.2968\n",
      "Epoch 43/50\n",
      "\u001b[1m3419/3419\u001b[0m \u001b[32m━━━━━━━━━━━━━━━━━━━━\u001b[0m\u001b[37m\u001b[0m \u001b[1m20s\u001b[0m 6ms/step - accuracy: 0.8586 - loss: 0.2997\n",
      "Epoch 44/50\n",
      "\u001b[1m3419/3419\u001b[0m \u001b[32m━━━━━━━━━━━━━━━━━━━━\u001b[0m\u001b[37m\u001b[0m \u001b[1m8s\u001b[0m 2ms/step - accuracy: 0.8592 - loss: 0.3001\n",
      "Epoch 45/50\n",
      "\u001b[1m3419/3419\u001b[0m \u001b[32m━━━━━━━━━━━━━━━━━━━━\u001b[0m\u001b[37m\u001b[0m \u001b[1m8s\u001b[0m 2ms/step - accuracy: 0.8595 - loss: 0.2941\n",
      "Epoch 46/50\n",
      "\u001b[1m3419/3419\u001b[0m \u001b[32m━━━━━━━━━━━━━━━━━━━━\u001b[0m\u001b[37m\u001b[0m \u001b[1m8s\u001b[0m 2ms/step - accuracy: 0.8606 - loss: 0.2946\n",
      "Epoch 47/50\n",
      "\u001b[1m3419/3419\u001b[0m \u001b[32m━━━━━━━━━━━━━━━━━━━━\u001b[0m\u001b[37m\u001b[0m \u001b[1m8s\u001b[0m 2ms/step - accuracy: 0.8610 - loss: 0.2969\n",
      "Epoch 48/50\n",
      "\u001b[1m3419/3419\u001b[0m \u001b[32m━━━━━━━━━━━━━━━━━━━━\u001b[0m\u001b[37m\u001b[0m \u001b[1m7s\u001b[0m 2ms/step - accuracy: 0.8605 - loss: 0.2954\n",
      "Epoch 49/50\n",
      "\u001b[1m3419/3419\u001b[0m \u001b[32m━━━━━━━━━━━━━━━━━━━━\u001b[0m\u001b[37m\u001b[0m \u001b[1m9s\u001b[0m 3ms/step - accuracy: 0.8623 - loss: 0.2921\n",
      "Epoch 50/50\n",
      "\u001b[1m3419/3419\u001b[0m \u001b[32m━━━━━━━━━━━━━━━━━━━━\u001b[0m\u001b[37m\u001b[0m \u001b[1m8s\u001b[0m 2ms/step - accuracy: 0.8609 - loss: 0.2971\n"
     ]
    }
   ],
   "source": [
    "# Entrenamiento del modelo\n",
    "historial = modelo.fit(X_train, y_train, epochs=50, batch_size=10, verbose=1)\n"
   ]
  },
  {
   "cell_type": "code",
   "execution_count": 24,
   "id": "8b3df9ae",
   "metadata": {},
   "outputs": [
    {
     "name": "stdout",
     "output_type": "stream",
     "text": [
      "\u001b[1m458/458\u001b[0m \u001b[32m━━━━━━━━━━━━━━━━━━━━\u001b[0m\u001b[37m\u001b[0m \u001b[1m1s\u001b[0m 2ms/step - accuracy: 0.8447 - loss: 0.3248\n",
      "Accuracy: 0.8515662550926208\n"
     ]
    }
   ],
   "source": [
    "# Evaluar el modelo\n",
    "loss, accuracy = modelo.evaluate(X_test, y_test, verbose=1)\n",
    "print(f'Accuracy: {accuracy}')"
   ]
  },
  {
   "cell_type": "code",
   "execution_count": 25,
   "id": "1f2300de",
   "metadata": {},
   "outputs": [
    {
     "data": {
      "image/png": "[encoded data removed]",
      "text/plain": [
       "<Figure size 1000x600 with 1 Axes>"
      ]
     },
     "metadata": {},
     "output_type": "display_data"
    }
   ],
   "source": [
    "# Graficar la pérdida durante el entrenamiento\n",
    "plt.figure(figsize=(10, 6))\n",
    "plt.plot(historial.history['loss'])\n",
    "plt.xlabel('Épocas')\n",
    "plt.ylabel('Pérdida')\n",
    "plt.title('Pérdida durante el entrenamiento')\n",
    "plt.show()"
   ]
  },
  {
   "cell_type": "code",
   "execution_count": 26,
   "id": "aea9222b",
   "metadata": {},
   "outputs": [
    {
     "name": "stdout",
     "output_type": "stream",
     "text": [
      "\u001b[1m458/458\u001b[0m \u001b[32m━━━━━━━━━━━━━━━━━━━━\u001b[0m\u001b[37m\u001b[0m \u001b[1m1s\u001b[0m 2ms/step\n"
     ]
    }
   ],
   "source": [
    "# Realizar predicciones\n",
    "y_pred = modelo.predict(X_test)\n",
    "y_pred_classes = np.argmax(y_pred, axis=1)"
   ]
  },
  {
   "cell_type": "code",
   "execution_count": 27,
   "id": "c1824d7f",
   "metadata": {},
   "outputs": [],
   "source": [
    "# Convertir las etiquetas verdaderas a clases\n",
    "y_test_classes = np.argmax(y_test, axis=1)"
   ]
  },
  {
   "cell_type": "code",
   "execution_count": 28,
   "id": "8d4be700",
   "metadata": {},
   "outputs": [
    {
     "name": "stdout",
     "output_type": "stream",
     "text": [
      "Accuracy: 0.8515662321708866\n"
     ]
    }
   ],
   "source": [
    "# Calcular y mostrar precisión\n",
    "accuracy = accuracy_score(y_test_classes, y_pred_classes)\n",
    "print(f'Accuracy: {accuracy}')"
   ]
  },
  {
   "cell_type": "code",
   "execution_count": 29,
   "id": "d6e140d2",
   "metadata": {},
   "outputs": [
    {
     "name": "stdout",
     "output_type": "stream",
     "text": [
      "Confusion Matrix:\n",
      "[[10447   719]\n",
      " [ 1456  2031]]\n"
     ]
    }
   ],
   "source": [
    "# Matriz de confusión\n",
    "cm = confusion_matrix(y_test_classes, y_pred_classes)\n",
    "print('Confusion Matrix:')\n",
    "print(cm)"
   ]
  },
  {
   "cell_type": "code",
   "execution_count": 30,
   "id": "a6395d4e",
   "metadata": {},
   "outputs": [
    {
     "name": "stdout",
     "output_type": "stream",
     "text": [
      "Classification Report:\n",
      "              precision    recall  f1-score   support\n",
      "\n",
      "           0       0.88      0.94      0.91     11166\n",
      "           1       0.74      0.58      0.65      3487\n",
      "\n",
      "    accuracy                           0.85     14653\n",
      "   macro avg       0.81      0.76      0.78     14653\n",
      "weighted avg       0.84      0.85      0.85     14653\n",
      "\n"
     ]
    }
   ],
   "source": [
    "# Informe de clasificación\n",
    "report = classification_report(y_test_classes, y_pred_classes)\n",
    "print('Classification Report:')\n",
    "print(report)"
   ]
  },
  {
   "cell_type": "code",
   "execution_count": 31,
   "id": "804d675c",
   "metadata": {},
   "outputs": [
    {
     "data": {
      "image/png": "[encoded data removed]",
      "text/plain": [
       "<Figure size 640x480 with 2 Axes>"
      ]
     },
     "metadata": {},
     "output_type": "display_data"
    }
   ],
   "source": [
    "# Mostrar matriz de confusión\n",
    "disp = ConfusionMatrixDisplay(confusion_matrix=cm, display_labels=np.unique(y_test_classes))\n",
    "disp.plot(cmap=plt.cm.Blues)\n",
    "plt.title('Confusión de la Red Neuronal Artificial')\n",
    "plt.show()"
   ]
  },
  {
   "cell_type": "code",
   "execution_count": 32,
   "id": "28c13e29",
   "metadata": {},
   "outputs": [
    {
     "data": {
      "image/png": "[encoded data removed]",
      "text/plain": [
       "<Figure size 1000x600 with 1 Axes>"
      ]
     },
     "metadata": {},
     "output_type": "display_data"
    }
   ],
   "source": [
    "# Graficar los resultados de la Red Neuronal Artificial\n",
    "plt.figure(figsize=(10, 6))\n",
    "plt.bar(['Red Neuronal'], [accuracy], color='blue')\n",
    "plt.xlabel('Modelos')\n",
    "plt.ylabel('Precisión')\n",
    "plt.title('Precisión del modelo de Red Neuronal Artificial')\n",
    "plt.ylim([0, 1])\n",
    "plt.text(0, accuracy + 0.01, f\"{accuracy:.2f}\", ha='center', va='bottom')\n",
    "plt.show()"
   ]
  },
  {
   "cell_type": "code",
   "execution_count": 33,
   "id": "472332ba",
   "metadata": {},
   "outputs": [
    {
     "name": "stdout",
     "output_type": "stream",
     "text": [
      "Conclusiones Red Neuronal Artificial:\n",
      "El modelo de Red Neuronal Artificial tiene una precisión de 0.85\n"
     ]
    }
   ],
   "source": [
    "# Conclusiones para la Red Neuronal Artificial\n",
    "print(\"Conclusiones Red Neuronal Artificial:\")\n",
    "print(f\"El modelo de Red Neuronal Artificial tiene una precisión de {accuracy:.2f}\")"
   ]
  }
 ],
 "metadata": {
  "kernelspec": {
   "display_name": "Python 3 (ipykernel)",
   "language": "python",
   "name": "python3"
  },
  "language_info": {
   "codemirror_mode": {
    "name": "ipython",
    "version": 3
   },
   "file_extension": ".py",
   "mimetype": "text/x-python",
   "name": "python",
   "nbconvert_exporter": "python",
   "pygments_lexer": "ipython3",
   "version": "3.12.1"
  }
 },
 "nbformat": 4,
 "nbformat_minor": 5
}
